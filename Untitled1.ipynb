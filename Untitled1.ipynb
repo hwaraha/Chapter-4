{
  "nbformat": 4,
  "nbformat_minor": 0,
  "metadata": {
    "colab": {
      "provenance": [],
      "authorship_tag": "ABX9TyMtiuii8Z90Cxw+odsfxYid",
      "include_colab_link": true
    },
    "kernelspec": {
      "name": "python3",
      "display_name": "Python 3"
    },
    "language_info": {
      "name": "python"
    }
  },
  "cells": [
    {
      "cell_type": "markdown",
      "metadata": {
        "id": "view-in-github",
        "colab_type": "text"
      },
      "source": [
        "<a href=\"https://colab.research.google.com/github/hwaraha/Chapter-4/blob/main/Untitled1.ipynb\" target=\"_parent\"><img src=\"https://colab.research.google.com/assets/colab-badge.svg\" alt=\"Open In Colab\"/></a>"
      ]
    },
    {
      "cell_type": "code",
      "source": [
        "#1\n",
        "nums = list(map(int, input(\"정수를 여러 가ㅣ 입력하시오: \").split()))\n",
        "def n(nums):\n",
        "    r1 = sum(nums)/len(nums)\n",
        "    r2 = max(nums)\n",
        "    r3 = min(nums)\n",
        "    return r1, r2, r3\n",
        "print('평균값은', sum(nums)/len(nums), '최댓값은', max(nums), '최솟값은', min(nums))\n",
        "\n",
        "\n",
        "\n",
        "\n",
        "\n",
        "\n",
        "\n",
        "\n",
        "\n",
        "\n",
        "\n",
        "\n"
      ],
      "metadata": {
        "colab": {
          "base_uri": "https://localhost:8080/"
        },
        "id": "q6tDlT-II5hu",
        "outputId": "d31a9453-2343-462c-8632-ee35c156f547"
      },
      "execution_count": 3,
      "outputs": [
        {
          "output_type": "stream",
          "name": "stdout",
          "text": [
            "정수를 여러 가ㅣ 입력하시오: 3 45 32 5 7 8 4 44 5 90 17\n",
            "평균값은 23.636363636363637 최댓값은 90 최솟값은 3\n"
          ]
        }
      ]
    },
    {
      "cell_type": "code",
      "source": [
        "# 8\n",
        "x1 = int(input('좌표를 입력하시오 :' ))\n",
        "y1 = int(input('좌표를 입력하시오 :' ))\n",
        "x2 = int(input('좌표를 입력하시오 :' ))\n",
        "y2 = int(input('좌표를 입력하시오 :' ))\n",
        "def print_distance(x1, y1, x2, y2):\n",
        "    r = ((x2 -x1) ** 2 +(y2-y1) ** 2) ** 0.5\n",
        "    print('두 점의 거리:', r)\n",
        "\n",
        "\n",
        "print_distance(x1, y1, x2, y2)"
      ],
      "metadata": {
        "colab": {
          "base_uri": "https://localhost:8080/"
        },
        "id": "EzclTGD8Jook",
        "outputId": "90f9b99c-56d5-4aff-a9f9-da4627ac139d"
      },
      "execution_count": 4,
      "outputs": [
        {
          "output_type": "stream",
          "name": "stdout",
          "text": [
            "좌표를 입력하시오 :0\n",
            "좌표를 입력하시오 :0\n",
            "좌표를 입력하시오 :3\n",
            "좌표를 입력하시오 :4\n",
            "두 점의 거리: 5.0\n"
          ]
        }
      ]
    },
    {
      "cell_type": "code",
      "source": [
        "\n",
        "# 10\n",
        "a = int(input(\"밑변을 입력하시오: \"))\n",
        "b = int(input(\"높이를 입력하시오: \"))\n",
        "def cal_area(a, b):\n",
        "    r = (a * b) / 2\n",
        "    print('삼각형의 면적:', r)\n",
        "\n",
        "cal_area(a, b)"
      ],
      "metadata": {
        "colab": {
          "base_uri": "https://localhost:8080/"
        },
        "id": "fUi-IdBaJlk1",
        "outputId": "92237346-8404-4140-e3d6-8ac2c6f1e72c"
      },
      "execution_count": 5,
      "outputs": [
        {
          "output_type": "stream",
          "name": "stdout",
          "text": [
            "밑변을 입력하시오: 20\n",
            "높이를 입력하시오: 15\n",
            "삼각형의 면적: 150.0\n"
          ]
        }
      ]
    },
    {
      "cell_type": "code",
      "source": [
        "#7\n",
        "def print_mile2km(m):\n",
        "    for _ in range(m):\n",
        "        for i in range(1, 6):\n",
        "            print('마일 = ', i * 1.61, '킬로미터')\n",
        "\n",
        "\n",
        "print_mile2km(1)"
      ],
      "metadata": {
        "colab": {
          "base_uri": "https://localhost:8080/"
        },
        "id": "uzPqo768JjEv",
        "outputId": "59ff8656-0e91-4f7a-d282-a76d3fd7e7b0"
      },
      "execution_count": 6,
      "outputs": [
        {
          "output_type": "stream",
          "name": "stdout",
          "text": [
            "마일 =  1.61 킬로미터\n",
            "마일 =  3.22 킬로미터\n",
            "마일 =  4.83 킬로미터\n",
            "마일 =  6.44 킬로미터\n",
            "마일 =  8.05 킬로미터\n"
          ]
        }
      ]
    },
    {
      "cell_type": "code",
      "source": [
        "#6\n",
        "def min_nums(m, n):\n",
        "    r1 = min(m, n)\n",
        "    r2 = max(m, n)\n",
        "    return r1, r2\n",
        "print('100과 200중 큰 수는:', max(200, 100),'\\n''100과 200중 작은 수는:', min(200, 100))"
      ],
      "metadata": {
        "colab": {
          "base_uri": "https://localhost:8080/"
        },
        "id": "4wv6hmXjJdVS",
        "outputId": "1906371d-9dce-4697-c456-d9a08fa89aa5"
      },
      "execution_count": 7,
      "outputs": [
        {
          "output_type": "stream",
          "name": "stdout",
          "text": [
            "100과 200중 큰 수는: 200 \n",
            "100과 200중 작은 수는: 100\n"
          ]
        }
      ]
    }
  ]
}