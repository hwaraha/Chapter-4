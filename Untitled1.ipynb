{
  "nbformat": 4,
  "nbformat_minor": 0,
  "metadata": {
    "colab": {
      "provenance": [],
      "authorship_tag": "ABX9TyMtiuii8Z90Cxw+odsfxYid",
      "include_colab_link": true
    },
    "kernelspec": {
      "name": "python3",
      "display_name": "Python 3"
    },
    "language_info": {
      "name": "python"
    }
  },
  "cells": [
    {
      "cell_type": "markdown",
      "metadata": {
        "id": "view-in-github",
        "colab_type": "text"
      },
      "source": [
        "<a href=\"https://colab.research.google.com/github/hwaraha/Chapter-4/blob/main/Untitled1.ipynb\" target=\"_parent\"><img src=\"https://colab.research.google.com/assets/colab-badge.svg\" alt=\"Open In Colab\"/></a>"
      ]
    },
    {
      "cell_type": "code",
      "source": [
        "#1\n",
        "nums = list(map(int, input(\"정수를 여러 가ㅣ 입력하시오: \").split()))\n",
        "def n(nums):\n",
        "    r1 = sum(nums)/len(nums)\n",
        "    r2 = max(nums)\n",
        "    r3 = min(nums)\n",
        "    return r1, r2, r3\n",
        "print('평균값은', sum(nums)/len(nums), '최댓값은', max(nums), '최솟값은', min(nums))\n",
        "\n",
        "\n",
        "\n",
        "\n",
        "\n",
        "\n",
        "\n",
        "\n",
        "\n",
        "\n",
        "\n",
        "\n"
      ],
      "metadata": {
        "colab": {
          "base_uri": "https://localhost:8080/"
        },
        "id": "q6tDlT-II5hu",
        "outputId": "466e6b72-e7fb-4d0b-ffbe-6d87d78cf293"
      },
      "execution_count": 2,
      "outputs": [
        {
          "output_type": "stream",
          "name": "stdout",
          "text": [
            "정수를 여러 가ㅣ 입력하시오: 3 5 66 77 \n",
            "평균값은 37.75 최댓값은 77 최솟값은 3\n"
          ]
        }
      ]
    },
    {
      "cell_type": "code",
      "source": [
        "# 8\n",
        "x1 = int(input('좌표를 입력하시오 :' ))\n",
        "y1 = int(input('좌표를 입력하시오 :' ))\n",
        "x2 = int(input('좌표를 입력하시오 :' ))\n",
        "y2 = int(input('좌표를 입력하시오 :' ))\n",
        "def print_distance(x1, y1, x2, y2):\n",
        "    r = ((x2 -x1) ** 2 +(y2-y1) ** 2) ** 0.5\n",
        "    print('두 점의 거리:', r)\n",
        "\n",
        "\n",
        "print_distance(x1, y1, x2, y2)"
      ],
      "metadata": {
        "id": "EzclTGD8Jook"
      },
      "execution_count": null,
      "outputs": []
    },
    {
      "cell_type": "code",
      "source": [
        "\n",
        "# 10\n",
        "a = int(input(\"밑변을 입력하시오: \"))\n",
        "b = int(input(\"높이를 입력하시오: \"))\n",
        "def cal_area(a, b):\n",
        "    r = (a * b) / 2\n",
        "    print('삼각형의 면적:', r)\n",
        "\n",
        "cal_area(a, b)"
      ],
      "metadata": {
        "id": "fUi-IdBaJlk1"
      },
      "execution_count": null,
      "outputs": []
    },
    {
      "cell_type": "code",
      "source": [
        "#7\n",
        "def print_mile2km(m):\n",
        "    for _ in range(m):\n",
        "        for i in range(1, 6):\n",
        "            print('마일 = ', i * 1.61, '킬로미터')\n",
        "\n",
        "\n",
        "print_mile2km(1)"
      ],
      "metadata": {
        "id": "uzPqo768JjEv"
      },
      "execution_count": null,
      "outputs": []
    },
    {
      "cell_type": "code",
      "source": [
        "#6\n",
        "def min_nums(m, n):\n",
        "    r1 = min(m, n)\n",
        "    r2 = max(m, n)\n",
        "    return r1, r2\n",
        "print('100과 200중 큰 수는:', max(200, 100),'\\n''100과 200중 작은 수는:', min(200, 100))"
      ],
      "metadata": {
        "id": "4wv6hmXjJdVS"
      },
      "execution_count": null,
      "outputs": []
    }
  ]
}